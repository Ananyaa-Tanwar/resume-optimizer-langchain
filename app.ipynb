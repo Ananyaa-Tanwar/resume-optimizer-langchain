{
 "cells": [
  {
   "cell_type": "code",
   "execution_count": 3,
   "id": "e623d4603b6711e6",
   "metadata": {
    "ExecuteTime": {
     "end_time": "2025-02-28T22:04:37.373332Z",
     "start_time": "2025-02-28T22:04:34.864608Z"
    }
   },
   "outputs": [
    {
     "name": "stdout",
     "output_type": "stream",
     "text": [
      "Requirement already satisfied: langchain==0.3.19 in c:\\users\\anany\\appdata\\local\\programs\\python\\python312\\lib\\site-packages (0.3.19)\n",
      "Requirement already satisfied: langchain-core<1.0.0,>=0.3.35 in c:\\users\\anany\\appdata\\local\\programs\\python\\python312\\lib\\site-packages (from langchain==0.3.19) (0.3.40)\n",
      "Requirement already satisfied: langchain-text-splitters<1.0.0,>=0.3.6 in c:\\users\\anany\\appdata\\local\\programs\\python\\python312\\lib\\site-packages (from langchain==0.3.19) (0.3.6)\n",
      "Requirement already satisfied: langsmith<0.4,>=0.1.17 in c:\\users\\anany\\appdata\\local\\programs\\python\\python312\\lib\\site-packages (from langchain==0.3.19) (0.3.11)\n",
      "Requirement already satisfied: pydantic<3.0.0,>=2.7.4 in c:\\users\\anany\\appdata\\local\\programs\\python\\python312\\lib\\site-packages (from langchain==0.3.19) (2.10.6)\n",
      "Requirement already satisfied: SQLAlchemy<3,>=1.4 in c:\\users\\anany\\appdata\\local\\programs\\python\\python312\\lib\\site-packages (from langchain==0.3.19) (2.0.38)\n",
      "Requirement already satisfied: requests<3,>=2 in c:\\users\\anany\\appdata\\local\\programs\\python\\python312\\lib\\site-packages (from langchain==0.3.19) (2.32.3)\n",
      "Requirement already satisfied: PyYAML>=5.3 in c:\\users\\anany\\appdata\\local\\programs\\python\\python312\\lib\\site-packages (from langchain==0.3.19) (6.0.2)\n",
      "Requirement already satisfied: aiohttp<4.0.0,>=3.8.3 in c:\\users\\anany\\appdata\\local\\programs\\python\\python312\\lib\\site-packages (from langchain==0.3.19) (3.11.13)\n",
      "Requirement already satisfied: tenacity!=8.4.0,<10,>=8.1.0 in c:\\users\\anany\\appdata\\local\\programs\\python\\python312\\lib\\site-packages (from langchain==0.3.19) (9.0.0)\n",
      "Requirement already satisfied: numpy<3,>=1.26.2 in c:\\users\\anany\\appdata\\local\\programs\\python\\python312\\lib\\site-packages (from langchain==0.3.19) (2.1.1)\n",
      "Requirement already satisfied: aiohappyeyeballs>=2.3.0 in c:\\users\\anany\\appdata\\local\\programs\\python\\python312\\lib\\site-packages (from aiohttp<4.0.0,>=3.8.3->langchain==0.3.19) (2.4.6)\n",
      "Requirement already satisfied: aiosignal>=1.1.2 in c:\\users\\anany\\appdata\\local\\programs\\python\\python312\\lib\\site-packages (from aiohttp<4.0.0,>=3.8.3->langchain==0.3.19) (1.3.2)\n",
      "Requirement already satisfied: attrs>=17.3.0 in c:\\users\\anany\\appdata\\local\\programs\\python\\python312\\lib\\site-packages (from aiohttp<4.0.0,>=3.8.3->langchain==0.3.19) (24.2.0)\n",
      "Requirement already satisfied: frozenlist>=1.1.1 in c:\\users\\anany\\appdata\\local\\programs\\python\\python312\\lib\\site-packages (from aiohttp<4.0.0,>=3.8.3->langchain==0.3.19) (1.5.0)\n",
      "Requirement already satisfied: multidict<7.0,>=4.5 in c:\\users\\anany\\appdata\\local\\programs\\python\\python312\\lib\\site-packages (from aiohttp<4.0.0,>=3.8.3->langchain==0.3.19) (6.1.0)\n",
      "Requirement already satisfied: propcache>=0.2.0 in c:\\users\\anany\\appdata\\local\\programs\\python\\python312\\lib\\site-packages (from aiohttp<4.0.0,>=3.8.3->langchain==0.3.19) (0.3.0)\n",
      "Requirement already satisfied: yarl<2.0,>=1.17.0 in c:\\users\\anany\\appdata\\local\\programs\\python\\python312\\lib\\site-packages (from aiohttp<4.0.0,>=3.8.3->langchain==0.3.19) (1.18.3)\n",
      "Requirement already satisfied: jsonpatch<2.0,>=1.33 in c:\\users\\anany\\appdata\\local\\programs\\python\\python312\\lib\\site-packages (from langchain-core<1.0.0,>=0.3.35->langchain==0.3.19) (1.33)\n",
      "Requirement already satisfied: packaging<25,>=23.2 in c:\\users\\anany\\appdata\\local\\programs\\python\\python312\\lib\\site-packages (from langchain-core<1.0.0,>=0.3.35->langchain==0.3.19) (24.1)\n",
      "Requirement already satisfied: typing-extensions>=4.7 in c:\\users\\anany\\appdata\\local\\programs\\python\\python312\\lib\\site-packages (from langchain-core<1.0.0,>=0.3.35->langchain==0.3.19) (4.12.2)\n",
      "Requirement already satisfied: httpx<1,>=0.23.0 in c:\\users\\anany\\appdata\\local\\programs\\python\\python312\\lib\\site-packages (from langsmith<0.4,>=0.1.17->langchain==0.3.19) (0.27.2)\n",
      "Requirement already satisfied: orjson<4.0.0,>=3.9.14 in c:\\users\\anany\\appdata\\local\\programs\\python\\python312\\lib\\site-packages (from langsmith<0.4,>=0.1.17->langchain==0.3.19) (3.10.15)\n",
      "Requirement already satisfied: requests-toolbelt<2.0.0,>=1.0.0 in c:\\users\\anany\\appdata\\local\\programs\\python\\python312\\lib\\site-packages (from langsmith<0.4,>=0.1.17->langchain==0.3.19) (1.0.0)\n",
      "Requirement already satisfied: zstandard<0.24.0,>=0.23.0 in c:\\users\\anany\\appdata\\local\\programs\\python\\python312\\lib\\site-packages (from langsmith<0.4,>=0.1.17->langchain==0.3.19) (0.23.0)\n",
      "Requirement already satisfied: annotated-types>=0.6.0 in c:\\users\\anany\\appdata\\local\\programs\\python\\python312\\lib\\site-packages (from pydantic<3.0.0,>=2.7.4->langchain==0.3.19) (0.7.0)\n",
      "Requirement already satisfied: pydantic-core==2.27.2 in c:\\users\\anany\\appdata\\local\\programs\\python\\python312\\lib\\site-packages (from pydantic<3.0.0,>=2.7.4->langchain==0.3.19) (2.27.2)\n",
      "Requirement already satisfied: charset-normalizer<4,>=2 in c:\\users\\anany\\appdata\\local\\programs\\python\\python312\\lib\\site-packages (from requests<3,>=2->langchain==0.3.19) (3.3.2)\n",
      "Requirement already satisfied: idna<4,>=2.5 in c:\\users\\anany\\appdata\\local\\programs\\python\\python312\\lib\\site-packages (from requests<3,>=2->langchain==0.3.19) (3.8)\n",
      "Requirement already satisfied: urllib3<3,>=1.21.1 in c:\\users\\anany\\appdata\\local\\programs\\python\\python312\\lib\\site-packages (from requests<3,>=2->langchain==0.3.19) (2.2.2)\n",
      "Requirement already satisfied: certifi>=2017.4.17 in c:\\users\\anany\\appdata\\local\\programs\\python\\python312\\lib\\site-packages (from requests<3,>=2->langchain==0.3.19) (2024.8.30)\n",
      "Requirement already satisfied: greenlet!=0.4.17 in c:\\users\\anany\\appdata\\local\\programs\\python\\python312\\lib\\site-packages (from SQLAlchemy<3,>=1.4->langchain==0.3.19) (3.1.1)\n",
      "Requirement already satisfied: anyio in c:\\users\\anany\\appdata\\local\\programs\\python\\python312\\lib\\site-packages (from httpx<1,>=0.23.0->langsmith<0.4,>=0.1.17->langchain==0.3.19) (4.4.0)\n",
      "Requirement already satisfied: httpcore==1.* in c:\\users\\anany\\appdata\\local\\programs\\python\\python312\\lib\\site-packages (from httpx<1,>=0.23.0->langsmith<0.4,>=0.1.17->langchain==0.3.19) (1.0.5)\n",
      "Requirement already satisfied: sniffio in c:\\users\\anany\\appdata\\local\\programs\\python\\python312\\lib\\site-packages (from httpx<1,>=0.23.0->langsmith<0.4,>=0.1.17->langchain==0.3.19) (1.3.1)\n",
      "Requirement already satisfied: h11<0.15,>=0.13 in c:\\users\\anany\\appdata\\local\\programs\\python\\python312\\lib\\site-packages (from httpcore==1.*->httpx<1,>=0.23.0->langsmith<0.4,>=0.1.17->langchain==0.3.19) (0.14.0)\n",
      "Requirement already satisfied: jsonpointer>=1.9 in c:\\users\\anany\\appdata\\local\\programs\\python\\python312\\lib\\site-packages (from jsonpatch<2.0,>=1.33->langchain-core<1.0.0,>=0.3.35->langchain==0.3.19) (3.0.0)\n",
      "Note: you may need to restart the kernel to use updated packages.\n"
     ]
    },
    {
     "name": "stderr",
     "output_type": "stream",
     "text": [
      "\n",
      "[notice] A new release of pip is available: 24.2 -> 25.0.1\n",
      "[notice] To update, run: python.exe -m pip install --upgrade pip\n"
     ]
    }
   ],
   "source": [
    "pip install langchain==0.3.19"
   ]
  },
  {
   "cell_type": "code",
   "execution_count": 4,
   "id": "initial_id",
   "metadata": {
    "ExecuteTime": {
     "end_time": "2025-02-28T22:03:50.997345Z",
     "start_time": "2025-02-28T22:03:50.971065Z"
    },
    "collapsed": true
   },
   "outputs": [],
   "source": [
    "import langchain"
   ]
  },
  {
   "cell_type": "code",
   "execution_count": 5,
   "id": "6bad9d3f29f2f73d",
   "metadata": {
    "ExecuteTime": {
     "end_time": "2025-02-28T22:04:57.072109Z",
     "start_time": "2025-02-28T22:04:54.556977Z"
    }
   },
   "outputs": [
    {
     "name": "stdout",
     "output_type": "stream",
     "text": [
      "Requirement already satisfied: langchain_openai in c:\\users\\anany\\appdata\\local\\programs\\python\\python312\\lib\\site-packages (0.3.7)Note: you may need to restart the kernel to use updated packages.\n",
      "\n",
      "Requirement already satisfied: langchain-core<1.0.0,>=0.3.39 in c:\\users\\anany\\appdata\\local\\programs\\python\\python312\\lib\\site-packages (from langchain_openai) (0.3.40)\n",
      "Requirement already satisfied: openai<2.0.0,>=1.58.1 in c:\\users\\anany\\appdata\\local\\programs\\python\\python312\\lib\\site-packages (from langchain_openai) (1.65.1)\n",
      "Requirement already satisfied: tiktoken<1,>=0.7 in c:\\users\\anany\\appdata\\local\\programs\\python\\python312\\lib\\site-packages (from langchain_openai) (0.9.0)\n",
      "Requirement already satisfied: langsmith<0.4,>=0.1.125 in c:\\users\\anany\\appdata\\local\\programs\\python\\python312\\lib\\site-packages (from langchain-core<1.0.0,>=0.3.39->langchain_openai) (0.3.11)\n",
      "Requirement already satisfied: tenacity!=8.4.0,<10.0.0,>=8.1.0 in c:\\users\\anany\\appdata\\local\\programs\\python\\python312\\lib\\site-packages (from langchain-core<1.0.0,>=0.3.39->langchain_openai) (9.0.0)\n",
      "Requirement already satisfied: jsonpatch<2.0,>=1.33 in c:\\users\\anany\\appdata\\local\\programs\\python\\python312\\lib\\site-packages (from langchain-core<1.0.0,>=0.3.39->langchain_openai) (1.33)\n",
      "Requirement already satisfied: PyYAML>=5.3 in c:\\users\\anany\\appdata\\local\\programs\\python\\python312\\lib\\site-packages (from langchain-core<1.0.0,>=0.3.39->langchain_openai) (6.0.2)\n",
      "Requirement already satisfied: packaging<25,>=23.2 in c:\\users\\anany\\appdata\\local\\programs\\python\\python312\\lib\\site-packages (from langchain-core<1.0.0,>=0.3.39->langchain_openai) (24.1)\n",
      "Requirement already satisfied: typing-extensions>=4.7 in c:\\users\\anany\\appdata\\local\\programs\\python\\python312\\lib\\site-packages (from langchain-core<1.0.0,>=0.3.39->langchain_openai) (4.12.2)\n",
      "Requirement already satisfied: pydantic<3.0.0,>=2.7.4 in c:\\users\\anany\\appdata\\local\\programs\\python\\python312\\lib\\site-packages (from langchain-core<1.0.0,>=0.3.39->langchain_openai) (2.10.6)\n",
      "Requirement already satisfied: anyio<5,>=3.5.0 in c:\\users\\anany\\appdata\\local\\programs\\python\\python312\\lib\\site-packages (from openai<2.0.0,>=1.58.1->langchain_openai) (4.4.0)\n",
      "Requirement already satisfied: distro<2,>=1.7.0 in c:\\users\\anany\\appdata\\local\\programs\\python\\python312\\lib\\site-packages (from openai<2.0.0,>=1.58.1->langchain_openai) (1.9.0)\n",
      "Requirement already satisfied: httpx<1,>=0.23.0 in c:\\users\\anany\\appdata\\local\\programs\\python\\python312\\lib\\site-packages (from openai<2.0.0,>=1.58.1->langchain_openai) (0.27.2)\n",
      "Requirement already satisfied: jiter<1,>=0.4.0 in c:\\users\\anany\\appdata\\local\\programs\\python\\python312\\lib\\site-packages (from openai<2.0.0,>=1.58.1->langchain_openai) (0.8.2)\n",
      "Requirement already satisfied: sniffio in c:\\users\\anany\\appdata\\local\\programs\\python\\python312\\lib\\site-packages (from openai<2.0.0,>=1.58.1->langchain_openai) (1.3.1)\n",
      "Requirement already satisfied: tqdm>4 in c:\\users\\anany\\appdata\\local\\programs\\python\\python312\\lib\\site-packages (from openai<2.0.0,>=1.58.1->langchain_openai) (4.67.1)\n",
      "Requirement already satisfied: regex>=2022.1.18 in c:\\users\\anany\\appdata\\local\\programs\\python\\python312\\lib\\site-packages (from tiktoken<1,>=0.7->langchain_openai) (2024.11.6)\n",
      "Requirement already satisfied: requests>=2.26.0 in c:\\users\\anany\\appdata\\local\\programs\\python\\python312\\lib\\site-packages (from tiktoken<1,>=0.7->langchain_openai) (2.32.3)\n",
      "Requirement already satisfied: idna>=2.8 in c:\\users\\anany\\appdata\\local\\programs\\python\\python312\\lib\\site-packages (from anyio<5,>=3.5.0->openai<2.0.0,>=1.58.1->langchain_openai) (3.8)\n",
      "Requirement already satisfied: certifi in c:\\users\\anany\\appdata\\local\\programs\\python\\python312\\lib\\site-packages (from httpx<1,>=0.23.0->openai<2.0.0,>=1.58.1->langchain_openai) (2024.8.30)\n",
      "Requirement already satisfied: httpcore==1.* in c:\\users\\anany\\appdata\\local\\programs\\python\\python312\\lib\\site-packages (from httpx<1,>=0.23.0->openai<2.0.0,>=1.58.1->langchain_openai) (1.0.5)\n",
      "Requirement already satisfied: h11<0.15,>=0.13 in c:\\users\\anany\\appdata\\local\\programs\\python\\python312\\lib\\site-packages (from httpcore==1.*->httpx<1,>=0.23.0->openai<2.0.0,>=1.58.1->langchain_openai) (0.14.0)\n",
      "Requirement already satisfied: jsonpointer>=1.9 in c:\\users\\anany\\appdata\\local\\programs\\python\\python312\\lib\\site-packages (from jsonpatch<2.0,>=1.33->langchain-core<1.0.0,>=0.3.39->langchain_openai) (3.0.0)\n",
      "Requirement already satisfied: orjson<4.0.0,>=3.9.14 in c:\\users\\anany\\appdata\\local\\programs\\python\\python312\\lib\\site-packages (from langsmith<0.4,>=0.1.125->langchain-core<1.0.0,>=0.3.39->langchain_openai) (3.10.15)\n",
      "Requirement already satisfied: requests-toolbelt<2.0.0,>=1.0.0 in c:\\users\\anany\\appdata\\local\\programs\\python\\python312\\lib\\site-packages (from langsmith<0.4,>=0.1.125->langchain-core<1.0.0,>=0.3.39->langchain_openai) (1.0.0)\n",
      "Requirement already satisfied: zstandard<0.24.0,>=0.23.0 in c:\\users\\anany\\appdata\\local\\programs\\python\\python312\\lib\\site-packages (from langsmith<0.4,>=0.1.125->langchain-core<1.0.0,>=0.3.39->langchain_openai) (0.23.0)\n",
      "Requirement already satisfied: annotated-types>=0.6.0 in c:\\users\\anany\\appdata\\local\\programs\\python\\python312\\lib\\site-packages (from pydantic<3.0.0,>=2.7.4->langchain-core<1.0.0,>=0.3.39->langchain_openai) (0.7.0)\n",
      "Requirement already satisfied: pydantic-core==2.27.2 in c:\\users\\anany\\appdata\\local\\programs\\python\\python312\\lib\\site-packages (from pydantic<3.0.0,>=2.7.4->langchain-core<1.0.0,>=0.3.39->langchain_openai) (2.27.2)\n",
      "Requirement already satisfied: charset-normalizer<4,>=2 in c:\\users\\anany\\appdata\\local\\programs\\python\\python312\\lib\\site-packages (from requests>=2.26.0->tiktoken<1,>=0.7->langchain_openai) (3.3.2)\n",
      "Requirement already satisfied: urllib3<3,>=1.21.1 in c:\\users\\anany\\appdata\\local\\programs\\python\\python312\\lib\\site-packages (from requests>=2.26.0->tiktoken<1,>=0.7->langchain_openai) (2.2.2)\n",
      "Requirement already satisfied: colorama in c:\\users\\anany\\appdata\\local\\programs\\python\\python312\\lib\\site-packages (from tqdm>4->openai<2.0.0,>=1.58.1->langchain_openai) (0.4.6)\n"
     ]
    },
    {
     "name": "stderr",
     "output_type": "stream",
     "text": [
      "\n",
      "[notice] A new release of pip is available: 24.2 -> 25.0.1\n",
      "[notice] To update, run: python.exe -m pip install --upgrade pip\n"
     ]
    }
   ],
   "source": [
    "pip install langchain_openai"
   ]
  },
  {
   "cell_type": "code",
   "execution_count": 6,
   "id": "322c7685133b25ea",
   "metadata": {
    "ExecuteTime": {
     "end_time": "2025-02-28T22:05:06.445305Z",
     "start_time": "2025-02-28T22:05:04.322752Z"
    }
   },
   "outputs": [
    {
     "name": "stdout",
     "output_type": "stream",
     "text": [
      "Note: you may need to restart the kernel to use updated packages.\n"
     ]
    },
    {
     "name": "stderr",
     "output_type": "stream",
     "text": [
      "ERROR: Could not find a version that satisfies the requirement langchain_openai.OpenAI (from versions: none)\n",
      "\n",
      "[notice] A new release of pip is available: 24.2 -> 25.0.1\n",
      "[notice] To update, run: python.exe -m pip install --upgrade pip\n",
      "ERROR: No matching distribution found for langchain_openai.OpenAI\n"
     ]
    }
   ],
   "source": [
    "pip install langchain_openai.OpenAI"
   ]
  },
  {
   "cell_type": "code",
   "execution_count": 7,
   "id": "3f517f281384cc29",
   "metadata": {
    "ExecuteTime": {
     "end_time": "2025-02-28T22:05:19.359640Z",
     "start_time": "2025-02-28T22:05:16.948930Z"
    }
   },
   "outputs": [
    {
     "name": "stdout",
     "output_type": "stream",
     "text": [
      "Note: you may need to restart the kernel to use updated packages.\n"
     ]
    },
    {
     "name": "stderr",
     "output_type": "stream",
     "text": [
      "ERROR: Could not find a version that satisfies the requirement langchain.llms (from versions: none)\n",
      "\n",
      "[notice] A new release of pip is available: 24.2 -> 25.0.1\n",
      "[notice] To update, run: python.exe -m pip install --upgrade pip\n",
      "ERROR: No matching distribution found for langchain.llms\n"
     ]
    }
   ],
   "source": [
    "pip install langchain.llms"
   ]
  },
  {
   "cell_type": "code",
   "execution_count": 8,
   "id": "7bb77b9a",
   "metadata": {},
   "outputs": [
    {
     "name": "stdout",
     "output_type": "stream",
     "text": [
      "Requirement already satisfied: dotenv in c:\\users\\anany\\appdata\\local\\programs\\python\\python312\\lib\\site-packages (0.9.9)Note: you may need to restart the kernel to use updated packages.\n",
      "\n",
      "Requirement already satisfied: python-dotenv in c:\\users\\anany\\appdata\\local\\programs\\python\\python312\\lib\\site-packages (from dotenv) (1.0.1)\n"
     ]
    },
    {
     "name": "stderr",
     "output_type": "stream",
     "text": [
      "\n",
      "[notice] A new release of pip is available: 24.2 -> 25.0.1\n",
      "[notice] To update, run: python.exe -m pip install --upgrade pip\n"
     ]
    }
   ],
   "source": [
    "pip install dotenv"
   ]
  },
  {
   "cell_type": "code",
   "execution_count": 9,
   "id": "949c44aab5e12587",
   "metadata": {
    "ExecuteTime": {
     "end_time": "2025-02-28T22:04:53.666380Z",
     "start_time": "2025-02-28T22:04:53.646122Z"
    }
   },
   "outputs": [],
   "source": [
    "from langchain.chains import LLMChain"
   ]
  },
  {
   "cell_type": "code",
   "execution_count": 10,
   "id": "27693b3fc73e2127",
   "metadata": {
    "ExecuteTime": {
     "end_time": "2025-02-28T22:05:13.750001Z",
     "start_time": "2025-02-28T22:05:13.583776Z"
    }
   },
   "outputs": [],
   "source": [
    "from langchain_openai import OpenAI"
   ]
  },
  {
   "cell_type": "code",
   "execution_count": 11,
   "id": "ece7cee10b7c8b9a",
   "metadata": {
    "ExecuteTime": {
     "end_time": "2025-02-28T22:04:01.204701500Z",
     "start_time": "2025-02-28T21:57:48.820839Z"
    }
   },
   "outputs": [],
   "source": [
    "from langchain.prompts import PromptTemplate\n",
    "import os\n",
    "from dotenv import load_dotenv"
   ]
  },
  {
   "cell_type": "code",
   "execution_count": 12,
   "id": "b6d8dbf0",
   "metadata": {},
   "outputs": [],
   "source": [
    "load_dotenv()\n",
    "openai_api_key = os.getenv(\"OPENAI_API_KEY\")\n",
    "\n",
    "if openai_api_key is None:\n",
    "    raise ValueError(\"OPENAI_API_KEY not found. Please set it in your environment.\")\n"
   ]
  },
  {
   "cell_type": "code",
   "execution_count": 13,
   "id": "ad110adf",
   "metadata": {},
   "outputs": [],
   "source": [
    "prompt_template = PromptTemplate(\n",
    "    input_variables=[\"resume_text\", \"job_description\"],\n",
    "    template=\"\"\"\n",
    "    You are an expert resume writer. Your task is to refine the given resume based on the provided job description.  \n",
    "    - Highlight the most relevant skills, experiences, and achievements that match the job requirements.  \n",
    "    - Improve bullet points to be more results-oriented and impactful.  \n",
    "    - Maintain professional formatting and tone.  \n",
    "    - Ensure all sections remain intact, only improving the content to better align with the job description.  \n",
    "\n",
    "    ---  \n",
    "    **Job Description:**  \n",
    "    {job_description}  \n",
    "      \n",
    "    **Current Resume:**  \n",
    "    {resume_text}  \n",
    "      \n",
    "    **Refined Resume:**  \n",
    "    \"\"\"\n",
    ")"
   ]
  },
  {
   "cell_type": "code",
   "execution_count": 14,
   "id": "dcfe7136",
   "metadata": {},
   "outputs": [],
   "source": [
    "import warnings\n",
    "warnings.filterwarnings(\"ignore\")"
   ]
  },
  {
   "cell_type": "code",
   "execution_count": 15,
   "id": "2c1b988a",
   "metadata": {},
   "outputs": [],
   "source": [
    "llm = OpenAI(api_key=openai_api_key)"
   ]
  },
  {
   "cell_type": "code",
   "execution_count": 16,
   "id": "19e01a37",
   "metadata": {},
   "outputs": [],
   "source": [
    "resume_chain = LLMChain(llm = llm, prompt = prompt_template)"
   ]
  },
  {
   "cell_type": "code",
   "execution_count": 17,
   "id": "2e4fcbfa",
   "metadata": {},
   "outputs": [],
   "source": [
    "def generate_resume(resume_text, job_description):\n",
    "    refined_resume = resume_chain.run(resume_text=resume_text, job_description=job_description)\n",
    "    return refined_resume\n"
   ]
  },
  {
   "cell_type": "code",
   "execution_count": 18,
   "id": "d827f091",
   "metadata": {},
   "outputs": [],
   "source": [
    "resume_text = \"\"\"\n",
    "ANANYAA TANWAR  \n",
    "ananyaatanwar@gmail.com | (773) 837-9096  \n",
    "linkedin.com/in/ananyaatanwar | github.com/Ananyaa-Tanwar  \n",
    "\n",
    "---\n",
    "\n",
    "### **SUMMARY**  \n",
    "Analytically driven and detail-oriented, seeking an **internship or co-op in business intelligence** to apply expertise in **Python, data modeling, SQL, and data storytelling**. Passionate about transforming complex data into meaningful insights to drive business decisions and process improvements.  \n",
    "\n",
    "---\n",
    "\n",
    "### **EDUCATION**  \n",
    "**Master of Science, Information Management**  \n",
    "*University of Illinois at Urbana-Champaign* | GPA: **3.89** | *Expected: May 2026*  \n",
    "\n",
    "**Bachelor of Science, Information Systems, Computer Science**  \n",
    "*University of Illinois at Urbana-Champaign* | **Graduated Summa Cum Laude** | GPA: **3.95**  \n",
    "\n",
    "---\n",
    "\n",
    "### **EXPERIENCE**  \n",
    "\n",
    "#### **Data Analyst Intern** | Kohler Co. | *May 2023 - Present*  \n",
    "- Developed a **Python-based KPI** to track delivery block resolution, reducing delayed deliveries by **15%**, aligning with strategic goals.  \n",
    "- Designed a **real-time Power BI dashboard** to connect SQL data with process mining changes, providing leadership with actionable insights.  \n",
    "- Engineered an **MS Power Apps application** to forecast shipping dates based on order attributes, improving delivery accuracy and efficiency.  \n",
    "\n",
    "#### **Data Analyst Intern** | Aspire Impact Pvt. Ltd. | *Jun 2022 - Aug 2022*  \n",
    "- Performed **data triangulation and wrangling** for 30 companies in Dow Jones & BSE Sensex using Python.  \n",
    "- Applied **regression analysis** to identify correlations among **ESG ratings, risk, profit, and market cap**.  \n",
    "- Built a **multiple linear regression model** to predict market capitalization with high accuracy.  \n",
    "\n",
    "#### **Data Steward - Programmer, Manager** | UIUC Gies College of Business | *Feb 2022 - Aug 2023*  \n",
    "- Led **content development** across multiple Learning Management Systems.  \n",
    "\n",
    "---\n",
    "\n",
    "### **PROJECTS**  \n",
    "\n",
    "- **Enhanced Car Sales Predictive Model with Big Data Engineering**  \n",
    "  - Built a **scalable car sales prediction model** using **GCP Dataproc, Hive, PySpark, and BigQuery**.  \n",
    "  - Designed **Tableau dashboards** for intuitive visualization, enhancing decision-making.  \n",
    "\n",
    "- **Celonis Process Optimization Consulting Project**  \n",
    "  - Conducted **operational data analysis** for a US retailer using Python & Tableau.  \n",
    "  - Identified inefficiencies leading to **$3M in cost savings**.  \n",
    "\n",
    "- **Analyzing Bitcoin Volatility Amid Cryptocurrency Regulations**  \n",
    "  - Studied Bitcoin price fluctuations in response to **cryptocurrency regulations** using **time series analysis**.  \n",
    "  - Integrated historical price data from **Yahoo Finance** & legislative data from **Congress.gov**.  \n",
    "\n",
    "- **Customer Acquisition Optimization through Predictive Modeling**  \n",
    "  - Built **supervised learning models (Linear Regression, Logistic Regression, Decision Tree, Random Forest)** to optimize **customer acquisition strategy**.  \n",
    "  - Analyzed **customer response rates** and revenue impact.  \n",
    "\n",
    "---\n",
    "\n",
    "### **SKILLS**  \n",
    "- **Programming**: Python, SQL, R  \n",
    "- **Tools & Technologies**: AWS (EC2, S3, RedShift), GCP, Scikit-Learn, NumPy, Pandas, Spark, Hadoop, Tableau, Tableau Prep, MS Excel, SAP, Power BI  \n",
    "\n",
    "---\n",
    "\n",
    "### **COURSEWORK**  \n",
    "Data Warehousing, Data Mining, Statistics, Data Science, Distributed Systems, System Analysis & Design, Data Structures, Discrete Structures, Business Analytics & Intelligence, Corporate Finance, Financial & Managerial Accounting  \n",
    "\n",
    "---\n",
    "\n",
    "### **AWARDS & DISTINCTIONS**  \n",
    "**James Scholar** | Gies College of Business  \n",
    "**Dean’s List**  \n",
    "\n",
    "\"\"\""
   ]
  },
  {
   "cell_type": "code",
   "execution_count": 19,
   "id": "087bdd56",
   "metadata": {},
   "outputs": [],
   "source": [
    "job_description = \"\"\"\n",
    "Do you enjoy translating data into actionable insights? Are you excited by the opportunity to troubleshoot features and products at the world's most customer-centric company? Are you passionate about mining data, developing models, using statistical and visualization techniques, and helping leaders make data-driven decisions? Do you want to be a part of a fast-paced, ambiguous environment and contribute to one of the most visited sites on the Internet?\n",
    "\n",
    "If this describes you, consider joining us for a co-op. Amazon is looking for a Business Intelligence Engineer Co-op to join one of our many lines of business. Amazon co-ops have the opportunity to work alongside the industry’s brightest engineers who innovate every day on behalf of our customers. You will be matched to a manager and a mentor. You will have the opportunity to impact the evolution of Amazon technology as well as lead mission-critical projects early in your career. Your work will contribute to solving some of the most complex technical challenges in the company\n",
    "\n",
    "At Amazon, you will grow into the high impact, visionary person you know you’re ready to be. Every day will be filled with exciting new challenges, developing new skills, and achieving personal growth.\n",
    "\n",
    "How often can you say that your work changes the world? At Amazon, you’ll say it often. Join us and define tomorrow.\n",
    "\n",
    "\n",
    "Key job responsibilities\n",
    "During a Business Intelligence Engineer Co-op, you will/may:\n",
    "\n",
    "●Build small- to mid-size business intelligence (BI) solutions – data sets, queries, reports, dashboards, analyses – or components of larger solutions to answer business questions with data.\n",
    "●Use well-defined requirements to build a solution that enables effective, data-driven business decisions. Deliver end product on schedule.\n",
    "●Create and populate data structures using one or more schema definition languages (e.g. DDL, SDL, XSD, RDF).\n",
    "●Write secure, stable, testable, and maintainable code with minimal defects, and automate manual processes where possible.\n",
    "●Use one or more industry analytics visualization tools (e.g. Excel, Tableau, QuickSight, MicroStrategy, PowerBI) and, as needed, statistical methods (e.g. t-test, Chi-squared) to deliver actionable insights to stakeholders.\n",
    "●Invent, refine, and develop BI solutions to ensure they meet the needs of the business and team goals.\n",
    "●Troubleshoot data, analyses, and code, research root causes, propose solutions, and take ownership in next steps for their resolutions\n",
    "\n",
    "\n",
    "A day in the life\n",
    "The challenges business intelligence engineers solve for at Amazon are big and impact millions of customers, sellers, and products around the world. Our path is not always simple, so we are selective about who joins us on this journey. There is a certain kind of person who takes on this role at Amazon – someone who is excited by the idea of creating new products, features, and services from scratch while managing ambiguity and the pace of a company whose ship cycles are measured in weeks, not years.\n",
    "\n",
    "BASIC QUALIFICATIONS\n",
    "- Are enrolled in a co-op program at your university\n",
    "- Experience with data querying or modeling with SQL\n",
    "- Experience building and maintaining basic data artifacts (e.g., ETL, data models, queries)\n",
    "- Experience with one or more industry analytics visualization tools (e.g. Excel, Tableau, QuickSight, MicroStrategy, PowerBI) and statistical methods (e.g. t-test, Chi-squared)\n",
    "- Currently working towards a Bachelor’s Degree in Statistics, Business Analytics, Data Analytics, Data Science, Computer Science, or other equivalent discipline, with an expected conferral date between March 2026 – December 2028.\n",
    "\n",
    "PREFERRED QUALIFICATIONS\n",
    "- Experience with scripting language (e.g., Python, Java, or R)\n",
    "- Knowledge of data modeling and data pipeline design\n",
    "- Experience applying basic statistical methods (e.g. regression) to difficult business problems\n",
    "- Knowledge of how to improve code quality and optimizes BI processes (e.g. speed, cost, reliability)\n",
    "- Enrolled in a Master’s Degree or advanced technical degree , with an expected conferral date between March 2026 – December 2028.\n",
    "- Previous technical internship(s), if applicable.\n",
    "- Ability to deal with ambiguity in a fast-paced environment.\n",
    "- Excellent verbal/written communication skills and data presentation skills.\n",
    "- Strong analytical skills.\n",
    "\"\"\""
   ]
  },
  {
   "cell_type": "code",
   "execution_count": 20,
   "id": "6c397a62",
   "metadata": {},
   "outputs": [],
   "source": [
    "resume = generate_resume(resume_text, job_description)"
   ]
  },
  {
   "cell_type": "code",
   "execution_count": 21,
   "id": "8e5b4f23",
   "metadata": {},
   "outputs": [
    {
     "name": "stdout",
     "output_type": "stream",
     "text": [
      "  \n",
      "ANANYAA TANWAR  \n",
      "ananyaatanwar@gmail.com | (773) 837-9096  \n",
      "linkedin.com/in/ananyaatanwar | github.com/Ananyaa-Tanwar  \n",
      "\n",
      "---\n",
      "\n",
      "### **SUMMARY**  \n",
      "Analytically driven and detail-oriented Data Analyst with experience in Python, data modeling, SQL, and data storytelling. Seeking a co-op as a Business Intelligence Engineer to leverage expertise in data analytics, visualization, and problem-solving to drive data-driven decisions and process improvements. Passionate about transforming complex data into meaningful insights to contribute to the success of Amazon, the world's most customer-centric company.  \n",
      "\n",
      "---\n",
      "\n",
      "### **EDUCATION**  \n",
      "**Master of Science, Information Management**  \n",
      "*University of Illinois at Urbana-Champaign* | GPA: **3.89** | *Expected: May 2026*  \n",
      "\n",
      "**Bachelor of Science, Information Systems, Computer Science**  \n",
      "*University of Illinois at Urbana-Champaign* | **Graduated Summa Cum Laude** | GPA: **3.95**  \n",
      "\n",
      "---\n",
      "\n",
      "### **EXPERIENCE**  \n",
      "\n",
      "#### **Data Analyst Intern** | Kohler Co. | *May 2023 - Present*  \n",
      "- Developed a **Python-based KPI to track delivery block resolution\n"
     ]
    }
   ],
   "source": [
    "print(resume)"
   ]
  }
 ],
 "metadata": {
  "kernelspec": {
   "display_name": "Python 3",
   "language": "python",
   "name": "python3"
  },
  "language_info": {
   "codemirror_mode": {
    "name": "ipython",
    "version": 3
   },
   "file_extension": ".py",
   "mimetype": "text/x-python",
   "name": "python",
   "nbconvert_exporter": "python",
   "pygments_lexer": "ipython3",
   "version": "3.12.5"
  }
 },
 "nbformat": 4,
 "nbformat_minor": 5
}
